{
  "nbformat": 4,
  "nbformat_minor": 0,
  "metadata": {
    "colab": {
      "provenance": [],
      "machine_shape": "hm",
      "gpuType": "A100"
    },
    "kernelspec": {
      "name": "python3",
      "display_name": "Python 3"
    },
    "language_info": {
      "name": "python"
    },
    "accelerator": "GPU"
  },
  "cells": [
    {
      "cell_type": "code",
      "execution_count": null,
      "metadata": {
        "colab": {
          "base_uri": "https://localhost:8080/"
        },
        "id": "XgCrDaSX4FVQ",
        "outputId": "cf03979a-c73b-462e-ead5-306eb4ae11e0"
      },
      "outputs": [
        {
          "output_type": "stream",
          "name": "stdout",
          "text": [
            "Mounted at /content/drive\n"
          ]
        }
      ],
      "source": [
        "import pandas as pd\n",
        "import glob\n",
        "from google.colab import drive\n",
        "\n",
        "drive.mount('/content/drive')\n",
        "path = '/content/drive/My Drive/BB_Normalized_Monthly_Final'\n",
        "all_files = glob.glob(path + \"/*.csv\")\n",
        "\n",
        "#convert each CSV to Parquet and store it temporarily\n",
        "for f in all_files:\n",
        "    df = pd.read_csv(f)\n",
        "    parquet_path = f.replace('.csv', '.parquet')\n",
        "    df.to_parquet(parquet_path)\n"
      ]
    },
    {
      "cell_type": "code",
      "source": [
        "\n",
        "all_parquet_files = glob.glob(path + \"/*.parquet\")\n",
        "\n",
        "df_combined = pd.concat((pd.read_parquet(f) for f in all_parquet_files), ignore_index=True)\n"
      ],
      "metadata": {
        "id": "RFdyynrC5-th"
      },
      "execution_count": null,
      "outputs": []
    },
    {
      "cell_type": "code",
      "source": [],
      "metadata": {
        "id": "X36tWi9gAM_n"
      },
      "execution_count": null,
      "outputs": []
    },
    {
      "cell_type": "code",
      "source": [
        "import pandas as pd\n",
        "import glob\n",
        "\n",
        "\n",
        "from google.colab import drive\n",
        "drive.mount('/content/drive')\n",
        "\n",
        "path = '/content/drive/My Drive/BB_Normalized_Monthly_Final'\n",
        "all_parquet_files = glob.glob(path + \"/*.parquet\")\n",
        "df_combined = pd.concat((pd.read_parquet(f) for f in all_parquet_files), ignore_index=True)\n",
        "\n",
        "output_parquet_filename = '/content/combined_data.parquet'\n",
        "df_combined.to_parquet(output_parquet_filename)\n"
      ],
      "metadata": {
        "colab": {
          "base_uri": "https://localhost:8080/"
        },
        "id": "6UNa2ThIAN2t",
        "outputId": "ca338bfb-5fbb-48e9-c738-aadd24827573"
      },
      "execution_count": null,
      "outputs": [
        {
          "output_type": "stream",
          "name": "stdout",
          "text": [
            "Drive already mounted at /content/drive; to attempt to forcibly remount, call drive.mount(\"/content/drive\", force_remount=True).\n"
          ]
        }
      ]
    },
    {
      "cell_type": "code",
      "source": [
        "from google.colab import files\n",
        "\n",
        "files.download(output_parquet_filename)\n"
      ],
      "metadata": {
        "colab": {
          "base_uri": "https://localhost:8080/",
          "height": 34
        },
        "id": "wAw3LYclAaql",
        "outputId": "78410f73-bf65-4962-fc91-929d9e6a765e"
      },
      "execution_count": null,
      "outputs": [
        {
          "output_type": "display_data",
          "data": {
            "text/plain": [
              "<IPython.core.display.Javascript object>"
            ],
            "application/javascript": [
              "\n",
              "    async function download(id, filename, size) {\n",
              "      if (!google.colab.kernel.accessAllowed) {\n",
              "        return;\n",
              "      }\n",
              "      const div = document.createElement('div');\n",
              "      const label = document.createElement('label');\n",
              "      label.textContent = `Downloading \"${filename}\": `;\n",
              "      div.appendChild(label);\n",
              "      const progress = document.createElement('progress');\n",
              "      progress.max = size;\n",
              "      div.appendChild(progress);\n",
              "      document.body.appendChild(div);\n",
              "\n",
              "      const buffers = [];\n",
              "      let downloaded = 0;\n",
              "\n",
              "      const channel = await google.colab.kernel.comms.open(id);\n",
              "      // Send a message to notify the kernel that we're ready.\n",
              "      channel.send({})\n",
              "\n",
              "      for await (const message of channel.messages) {\n",
              "        // Send a message to notify the kernel that we're ready.\n",
              "        channel.send({})\n",
              "        if (message.buffers) {\n",
              "          for (const buffer of message.buffers) {\n",
              "            buffers.push(buffer);\n",
              "            downloaded += buffer.byteLength;\n",
              "            progress.value = downloaded;\n",
              "          }\n",
              "        }\n",
              "      }\n",
              "      const blob = new Blob(buffers, {type: 'application/binary'});\n",
              "      const a = document.createElement('a');\n",
              "      a.href = window.URL.createObjectURL(blob);\n",
              "      a.download = filename;\n",
              "      div.appendChild(a);\n",
              "      a.click();\n",
              "      div.remove();\n",
              "    }\n",
              "  "
            ]
          },
          "metadata": {}
        },
        {
          "output_type": "display_data",
          "data": {
            "text/plain": [
              "<IPython.core.display.Javascript object>"
            ],
            "application/javascript": [
              "download(\"download_814af1a8-4e7a-4554-8822-f17af60364ca\", \"combined_data.parquet\", 1375309987)"
            ]
          },
          "metadata": {}
        }
      ]
    },
    {
      "cell_type": "code",
      "source": [
        "\n",
        "drive_output_path = '/content/drive/My Drive/BB_Normalized_Monthly_Final/combined_data.parquet'\n",
        "\n",
        "df_combined.to_parquet(drive_output_path)\n"
      ],
      "metadata": {
        "id": "z-0QfHv2CeY_"
      },
      "execution_count": null,
      "outputs": []
    },
    {
      "cell_type": "code",
      "source": [
        "import os\n",
        "print(\"Files in directory:\", os.listdir('/content/drive/My Drive/BB_Normalized_Monthly_Final'))\n"
      ],
      "metadata": {
        "colab": {
          "base_uri": "https://localhost:8080/"
        },
        "id": "UFqn5L7dCgbj",
        "outputId": "d4925c0c-c1fd-4969-fc2b-f61109d54881"
      },
      "execution_count": null,
      "outputs": [
        {
          "output_type": "stream",
          "name": "stdout",
          "text": [
            "Files in directory: ['2017_02_ST8000NM0055.csv', '2016_12_ST8000NM0055.csv', '2017_01_ST8000NM0055.csv', '2019_12_ST8000NM0055.csv', '2018_12_ST8000NM0055.csv', '2017_03_ST8000NM0055.csv', '2018_06_ST8000NM0055.csv', '2017_08_ST8000NM0055.csv', '2019_06_ST8000NM0055.csv', '2019_02_ST8000NM0055.csv', '2022_10_ST8000NM0055.csv', '2021_04_ST8000NM0055.csv', '2023_10_ST8000NM0055.csv', '2018_02_ST8000NM0055.csv', '2020_04_ST8000NM0055.csv', '2023_04_ST8000NM0055.csv', '2020_10_ST8000NM0055.csv', '2019_09_ST8000NM0055.csv', '2017_07_ST8000NM0055.csv', '2022_04_ST8000NM0055.csv', '2021_10_ST8000NM0055.csv', '2018_09_ST8000NM0055.csv', '2023_01_ST8000NM0055.csv', '2022_01_ST8000NM0055.csv', '2021_01_ST8000NM0055.csv', '2017_09_ST8000NM0055.csv', '2019_07_ST8000NM0055.csv', '2020_01_ST8000NM0055.csv', '2018_07_ST8000NM0055.csv', '2017_12_ST8000NM0055.csv', '2020_05_ST8000NM0055.csv', '2018_03_ST8000NM0055.csv', '2023_11_ST8000NM0055.csv', '2021_05_ST8000NM0055.csv', '2022_11_ST8000NM0055.csv', '2019_03_ST8000NM0055.csv', '2018_08_ST8000NM0055.csv', '2021_11_ST8000NM0055.csv', '2022_05_ST8000NM0055.csv', '2019_08_ST8000NM0055.csv', '2020_11_ST8000NM0055.csv', '2017_06_ST8000NM0055.csv', '2023_05_ST8000NM0055.csv', '2023_09_ST8000NM0055.csv', '2021_02_ST8000NM0055.csv', '2019_04_ST8000NM0055.csv', '2020_02_ST8000NM0055.csv', '2022_09_ST8000NM0055.csv', '2018_04_ST8000NM0055.csv', '2023_02_ST8000NM0055.csv', '2018_10_ST8000NM0055.csv', '2021_09_ST8000NM0055.csv', '2019_10_ST8000NM0055.csv', '2020_09_ST8000NM0055.csv', '2022_02_ST8000NM0055.csv', '2021_12_ST8000NM0055.csv', '2022_06_ST8000NM0055.csv', '2017_05_ST8000NM0055.csv', '2020_12_ST8000NM0055.csv', '2023_06_ST8000NM0055.csv', '2020_06_ST8000NM0055.csv', '2017_11_ST8000NM0055.csv', '2023_12_ST8000NM0055.csv', '2021_06_ST8000NM0055.csv', '2022_12_ST8000NM0055.csv', '2018_05_ST8000NM0055.csv', '2022_08_ST8000NM0055.csv', '2020_03_ST8000NM0055.csv', '2019_05_ST8000NM0055.csv', '2021_03_ST8000NM0055.csv', '2023_08_ST8000NM0055.csv', '2022_03_ST8000NM0055.csv', '2020_08_ST8000NM0055.csv', '2019_11_ST8000NM0055.csv', '2021_08_ST8000NM0055.csv', '2018_11_ST8000NM0055.csv', '2023_03_ST8000NM0055.csv', '2023_07_ST8000NM0055.csv', '2017_04_ST8000NM0055.csv', '2022_07_ST8000NM0055.csv', '2019_01_ST8000NM0055.csv', '2021_07_ST8000NM0055.csv', '2018_01_ST8000NM0055.csv', '2020_07_ST8000NM0055.csv', '2017_10_ST8000NM0055.csv', '2017_02_ST8000NM0055.parquet', '2016_12_ST8000NM0055.parquet', '2017_01_ST8000NM0055.parquet', '2019_12_ST8000NM0055.parquet', '2018_12_ST8000NM0055.parquet', '2017_03_ST8000NM0055.parquet', '2018_06_ST8000NM0055.parquet', '2017_08_ST8000NM0055.parquet', '2019_06_ST8000NM0055.parquet', '2019_02_ST8000NM0055.parquet', '2022_10_ST8000NM0055.parquet', '2021_04_ST8000NM0055.parquet', '2023_10_ST8000NM0055.parquet', '2018_02_ST8000NM0055.parquet', '2020_04_ST8000NM0055.parquet', '2023_04_ST8000NM0055.parquet', '2020_10_ST8000NM0055.parquet', '2019_09_ST8000NM0055.parquet', '2017_07_ST8000NM0055.parquet', '2022_04_ST8000NM0055.parquet', '2021_10_ST8000NM0055.parquet', '2018_09_ST8000NM0055.parquet', '2023_01_ST8000NM0055.parquet', '2022_01_ST8000NM0055.parquet', '2021_01_ST8000NM0055.parquet', '2017_09_ST8000NM0055.parquet', '2019_07_ST8000NM0055.parquet', '2020_01_ST8000NM0055.parquet', '2018_07_ST8000NM0055.parquet', '2017_12_ST8000NM0055.parquet', '2020_05_ST8000NM0055.parquet', '2018_03_ST8000NM0055.parquet', '2023_11_ST8000NM0055.parquet', '2021_05_ST8000NM0055.parquet', '2022_11_ST8000NM0055.parquet', '2019_03_ST8000NM0055.parquet', '2018_08_ST8000NM0055.parquet', '2021_11_ST8000NM0055.parquet', '2022_05_ST8000NM0055.parquet', '2019_08_ST8000NM0055.parquet', '2020_11_ST8000NM0055.parquet', '2017_06_ST8000NM0055.parquet', '2023_05_ST8000NM0055.parquet', '2023_09_ST8000NM0055.parquet', '2021_02_ST8000NM0055.parquet', '2019_04_ST8000NM0055.parquet', '2020_02_ST8000NM0055.parquet', '2022_09_ST8000NM0055.parquet', '2018_04_ST8000NM0055.parquet', '2023_02_ST8000NM0055.parquet', '2018_10_ST8000NM0055.parquet', '2021_09_ST8000NM0055.parquet', '2019_10_ST8000NM0055.parquet', '2020_09_ST8000NM0055.parquet', '2022_02_ST8000NM0055.parquet', '2021_12_ST8000NM0055.parquet', '2022_06_ST8000NM0055.parquet', '2017_05_ST8000NM0055.parquet', '2020_12_ST8000NM0055.parquet', '2023_06_ST8000NM0055.parquet', '2020_06_ST8000NM0055.parquet', '2017_11_ST8000NM0055.parquet', '2023_12_ST8000NM0055.parquet', '2021_06_ST8000NM0055.parquet', '2022_12_ST8000NM0055.parquet', '2018_05_ST8000NM0055.parquet', '2022_08_ST8000NM0055.parquet', '2020_03_ST8000NM0055.parquet', '2019_05_ST8000NM0055.parquet', '2021_03_ST8000NM0055.parquet', '2023_08_ST8000NM0055.parquet', '2022_03_ST8000NM0055.parquet', '2020_08_ST8000NM0055.parquet', '2019_11_ST8000NM0055.parquet', '2021_08_ST8000NM0055.parquet', '2018_11_ST8000NM0055.parquet', '2023_03_ST8000NM0055.parquet', '2023_07_ST8000NM0055.parquet', '2017_04_ST8000NM0055.parquet', '2022_07_ST8000NM0055.parquet', '2019_01_ST8000NM0055.parquet', '2021_07_ST8000NM0055.parquet', '2018_01_ST8000NM0055.parquet', '2020_07_ST8000NM0055.parquet', '2017_10_ST8000NM0055.parquet', 'combined_data.parquet']\n"
          ]
        }
      ]
    }
  ]
}
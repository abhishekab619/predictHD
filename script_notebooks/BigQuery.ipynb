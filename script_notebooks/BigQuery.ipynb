{
  "nbformat": 4,
  "nbformat_minor": 0,
  "metadata": {
    "colab": {
      "provenance": [],
      "machine_shape": "hm",
      "gpuType": "L4"
    },
    "kernelspec": {
      "name": "python3",
      "display_name": "Python 3"
    },
    "language_info": {
      "name": "python"
    },
    "accelerator": "GPU"
  },
  "cells": [
    {
      "cell_type": "code",
      "execution_count": null,
      "metadata": {
        "colab": {
          "base_uri": "https://localhost:8080/"
        },
        "id": "ZaO25xwmWa7U",
        "outputId": "5923ddf3-80cd-4829-bacb-aee623bbf718"
      },
      "outputs": [
        {
          "output_type": "stream",
          "name": "stdout",
          "text": [
            "Requirement already satisfied: google-cloud-bigquery in /usr/local/lib/python3.10/dist-packages (3.21.0)\n",
            "Requirement already satisfied: google-api-core[grpc]!=2.0.*,!=2.1.*,!=2.10.*,!=2.2.*,!=2.3.*,!=2.4.*,!=2.5.*,!=2.6.*,!=2.7.*,!=2.8.*,!=2.9.*,<3.0.0dev,>=1.34.1 in /usr/local/lib/python3.10/dist-packages (from google-cloud-bigquery) (2.11.1)\n",
            "Requirement already satisfied: google-auth<3.0.0dev,>=2.14.1 in /usr/local/lib/python3.10/dist-packages (from google-cloud-bigquery) (2.27.0)\n",
            "Requirement already satisfied: google-cloud-core<3.0.0dev,>=1.6.0 in /usr/local/lib/python3.10/dist-packages (from google-cloud-bigquery) (2.3.3)\n",
            "Requirement already satisfied: google-resumable-media<3.0dev,>=0.6.0 in /usr/local/lib/python3.10/dist-packages (from google-cloud-bigquery) (2.7.0)\n",
            "Requirement already satisfied: packaging>=20.0.0 in /usr/local/lib/python3.10/dist-packages (from google-cloud-bigquery) (24.0)\n",
            "Requirement already satisfied: python-dateutil<3.0dev,>=2.7.2 in /usr/local/lib/python3.10/dist-packages (from google-cloud-bigquery) (2.8.2)\n",
            "Requirement already satisfied: requests<3.0.0dev,>=2.21.0 in /usr/local/lib/python3.10/dist-packages (from google-cloud-bigquery) (2.31.0)\n",
            "Requirement already satisfied: googleapis-common-protos<2.0.dev0,>=1.56.2 in /usr/local/lib/python3.10/dist-packages (from google-api-core[grpc]!=2.0.*,!=2.1.*,!=2.10.*,!=2.2.*,!=2.3.*,!=2.4.*,!=2.5.*,!=2.6.*,!=2.7.*,!=2.8.*,!=2.9.*,<3.0.0dev,>=1.34.1->google-cloud-bigquery) (1.63.0)\n",
            "Requirement already satisfied: protobuf!=3.20.0,!=3.20.1,!=4.21.0,!=4.21.1,!=4.21.2,!=4.21.3,!=4.21.4,!=4.21.5,<5.0.0.dev0,>=3.19.5 in /usr/local/lib/python3.10/dist-packages (from google-api-core[grpc]!=2.0.*,!=2.1.*,!=2.10.*,!=2.2.*,!=2.3.*,!=2.4.*,!=2.5.*,!=2.6.*,!=2.7.*,!=2.8.*,!=2.9.*,<3.0.0dev,>=1.34.1->google-cloud-bigquery) (3.20.3)\n",
            "Requirement already satisfied: grpcio<2.0dev,>=1.33.2 in /usr/local/lib/python3.10/dist-packages (from google-api-core[grpc]!=2.0.*,!=2.1.*,!=2.10.*,!=2.2.*,!=2.3.*,!=2.4.*,!=2.5.*,!=2.6.*,!=2.7.*,!=2.8.*,!=2.9.*,<3.0.0dev,>=1.34.1->google-cloud-bigquery) (1.63.0)\n",
            "Requirement already satisfied: grpcio-status<2.0.dev0,>=1.33.2 in /usr/local/lib/python3.10/dist-packages (from google-api-core[grpc]!=2.0.*,!=2.1.*,!=2.10.*,!=2.2.*,!=2.3.*,!=2.4.*,!=2.5.*,!=2.6.*,!=2.7.*,!=2.8.*,!=2.9.*,<3.0.0dev,>=1.34.1->google-cloud-bigquery) (1.48.2)\n",
            "Requirement already satisfied: cachetools<6.0,>=2.0.0 in /usr/local/lib/python3.10/dist-packages (from google-auth<3.0.0dev,>=2.14.1->google-cloud-bigquery) (5.3.3)\n",
            "Requirement already satisfied: pyasn1-modules>=0.2.1 in /usr/local/lib/python3.10/dist-packages (from google-auth<3.0.0dev,>=2.14.1->google-cloud-bigquery) (0.4.0)\n",
            "Requirement already satisfied: rsa<5,>=3.1.4 in /usr/local/lib/python3.10/dist-packages (from google-auth<3.0.0dev,>=2.14.1->google-cloud-bigquery) (4.9)\n",
            "Requirement already satisfied: google-crc32c<2.0dev,>=1.0 in /usr/local/lib/python3.10/dist-packages (from google-resumable-media<3.0dev,>=0.6.0->google-cloud-bigquery) (1.5.0)\n",
            "Requirement already satisfied: six>=1.5 in /usr/local/lib/python3.10/dist-packages (from python-dateutil<3.0dev,>=2.7.2->google-cloud-bigquery) (1.16.0)\n",
            "Requirement already satisfied: charset-normalizer<4,>=2 in /usr/local/lib/python3.10/dist-packages (from requests<3.0.0dev,>=2.21.0->google-cloud-bigquery) (3.3.2)\n",
            "Requirement already satisfied: idna<4,>=2.5 in /usr/local/lib/python3.10/dist-packages (from requests<3.0.0dev,>=2.21.0->google-cloud-bigquery) (3.7)\n",
            "Requirement already satisfied: urllib3<3,>=1.21.1 in /usr/local/lib/python3.10/dist-packages (from requests<3.0.0dev,>=2.21.0->google-cloud-bigquery) (2.0.7)\n",
            "Requirement already satisfied: certifi>=2017.4.17 in /usr/local/lib/python3.10/dist-packages (from requests<3.0.0dev,>=2.21.0->google-cloud-bigquery) (2024.2.2)\n",
            "Requirement already satisfied: pyasn1<0.7.0,>=0.4.6 in /usr/local/lib/python3.10/dist-packages (from pyasn1-modules>=0.2.1->google-auth<3.0.0dev,>=2.14.1->google-cloud-bigquery) (0.6.0)\n"
          ]
        }
      ],
      "source": [
        "!pip install google-cloud-bigquery\n"
      ]
    },
    {
      "cell_type": "code",
      "source": [
        "from google.colab import auth\n",
        "auth.authenticate_user()\n",
        "print('Authenticated')\n"
      ],
      "metadata": {
        "colab": {
          "base_uri": "https://localhost:8080/"
        },
        "id": "RewYfPNgXQlN",
        "outputId": "eccc090d-13b8-44fe-c567-c9616be913f3"
      },
      "execution_count": null,
      "outputs": [
        {
          "output_type": "stream",
          "name": "stdout",
          "text": [
            "Authenticated\n"
          ]
        }
      ]
    },
    {
      "cell_type": "code",
      "source": [
        "from google.cloud import bigquery\n",
        "project_id = 'backblazehd'  # This is your Google Cloud project ID\n",
        "client = bigquery.Client(project=project_id)"
      ],
      "metadata": {
        "id": "QGZ7VAJTXYVA"
      },
      "execution_count": null,
      "outputs": []
    },
    {
      "cell_type": "code",
      "source": [
        "# Example query\n",
        "query = \"\"\"\n",
        "SELECT *\n",
        "FROM `backblazehd.hdd_failure_data.failure_logs`\n",
        "LIMIT 10\n",
        "\"\"\"\n",
        "df = client.query(query).to_dataframe()\n",
        "print(df)\n"
      ],
      "metadata": {
        "colab": {
          "base_uri": "https://localhost:8080/"
        },
        "id": "Jf4tJgEGZF0V",
        "outputId": "ace7e535-ae3d-41ce-ca3b-746ee87b6c24"
      },
      "execution_count": null,
      "outputs": [
        {
          "output_type": "stream",
          "name": "stdout",
          "text": [
            "         date serial_number  failure  smart_1_raw  smart_1_normalized  \\\n",
            "0  2017-03-23      ZA16CLX5        0          NaN                 NaN   \n",
            "1  2017-03-24      ZA14E9DS        0          NaN                 NaN   \n",
            "2  2017-03-24      ZA14EE41        0          NaN                 NaN   \n",
            "3  2017-03-24      ZA16DW4P        0          NaN                 NaN   \n",
            "4  2017-03-24      ZA14EE4T        0          NaN                 NaN   \n",
            "5  2017-03-24      ZA148ZY0        0          NaN                 NaN   \n",
            "6  2017-06-06      ZA139GJ9        0          NaN                 NaN   \n",
            "7  2017-06-06      ZA139FP9        0          NaN                 NaN   \n",
            "8  2017-06-06      ZA13ZEY0        0          NaN                 NaN   \n",
            "9  2017-06-06      ZA12Z097        0          NaN                 NaN   \n",
            "\n",
            "   smart_5_raw  smart_5_normalized  smart_7_raw  smart_7_normalized  \\\n",
            "0          NaN                 NaN          NaN                 NaN   \n",
            "1          NaN                 NaN          NaN                 NaN   \n",
            "2          NaN                 NaN          NaN                 NaN   \n",
            "3          NaN                 NaN          NaN                 NaN   \n",
            "4          NaN                 NaN          NaN                 NaN   \n",
            "5          NaN                 NaN          NaN                 NaN   \n",
            "6          NaN                 NaN          NaN                 NaN   \n",
            "7          NaN                 NaN          NaN                 NaN   \n",
            "8          NaN                 NaN          NaN                 NaN   \n",
            "9          NaN                 NaN          NaN                 NaN   \n",
            "\n",
            "   smart_9_raw  ...  smart_188_raw  smart_188_normalized  smart_197_raw  \\\n",
            "0          NaN  ...            NaN                   NaN            NaN   \n",
            "1          NaN  ...            NaN                   NaN            NaN   \n",
            "2          NaN  ...            NaN                   NaN            NaN   \n",
            "3          NaN  ...            NaN                   NaN            NaN   \n",
            "4          NaN  ...            NaN                   NaN            NaN   \n",
            "5          NaN  ...            NaN                   NaN            NaN   \n",
            "6          NaN  ...            NaN                   NaN            NaN   \n",
            "7          NaN  ...            NaN                   NaN            NaN   \n",
            "8          NaN  ...            NaN                   NaN            NaN   \n",
            "9          NaN  ...            NaN                   NaN            NaN   \n",
            "\n",
            "   smart_197_normalized  smart_198_raw  smart_198_normalized  smart_199_raw  \\\n",
            "0                   NaN            NaN                   NaN            NaN   \n",
            "1                   NaN            NaN                   NaN            NaN   \n",
            "2                   NaN            NaN                   NaN            NaN   \n",
            "3                   NaN            NaN                   NaN            NaN   \n",
            "4                   NaN            NaN                   NaN            NaN   \n",
            "5                   NaN            NaN                   NaN            NaN   \n",
            "6                   NaN            NaN                   NaN            NaN   \n",
            "7                   NaN            NaN                   NaN            NaN   \n",
            "8                   NaN            NaN                   NaN            NaN   \n",
            "9                   NaN            NaN                   NaN            NaN   \n",
            "\n",
            "   smart_199_normalized  smart_240_raw  smart_240_normalized  \n",
            "0                   NaN            NaN                   NaN  \n",
            "1                   NaN            NaN                   NaN  \n",
            "2                   NaN            NaN                   NaN  \n",
            "3                   NaN            NaN                   NaN  \n",
            "4                   NaN            NaN                   NaN  \n",
            "5                   NaN            NaN                   NaN  \n",
            "6                   NaN            NaN                   NaN  \n",
            "7                   NaN            NaN                   NaN  \n",
            "8                   NaN            NaN                   NaN  \n",
            "9                   NaN            NaN                   NaN  \n",
            "\n",
            "[10 rows x 25 columns]\n"
          ]
        }
      ]
    },
    {
      "cell_type": "code",
      "source": [
        "def fetch_data(serial_number):\n",
        "    query = f\"\"\"\n",
        "    SELECT *\n",
        "    FROM `backblazehd.hdd_failure_data.failure_logs`\n",
        "    WHERE serial_number = '{serial_number}'\n",
        "    \"\"\"\n",
        "    return client.query(query).to_dataframe()\n"
      ],
      "metadata": {
        "id": "kPH_upaKcweo"
      },
      "execution_count": null,
      "outputs": []
    },
    {
      "cell_type": "code",
      "source": [
        "from google.colab import drive\n",
        "import pandas as pd\n",
        "\n",
        "#mount Google Drive to access and save the Parquet file\n",
        "drive.mount('/content/drive')\n",
        "\n",
        "#define the path to the input Parquet file on Google Drive\n",
        "input_path = '/content/drive/My Drive/BB_Normalized_Monthly_Final/combined_data.parquet'\n",
        "\n",
        "#load the data from the Parquet file\n",
        "data = pd.read_parquet(input_path)\n",
        "\n",
        "#remove the specific columns\n",
        "data = data.drop(columns=['smart_183_raw', 'smart_183_normalized'])\n",
        "\n",
        "#define the path to save the modified Parquet file on Google Drive\n",
        "output_path = '/content/drive/My Drive/BB_Normalized_Monthly_Final/combined_data_minus_183.parquet'\n",
        "\n",
        "#save the modified DataFrame to a Parquet file on Google Drive\n",
        "data.to_parquet(output_path)\n",
        "\n",
        "print(\"Data has been successfully saved to:\", output_path)\n"
      ],
      "metadata": {
        "colab": {
          "base_uri": "https://localhost:8080/"
        },
        "id": "c5RSpvt49Oqy",
        "outputId": "9adca885-b663-4c2b-f833-a09ae9f65e89"
      },
      "execution_count": null,
      "outputs": [
        {
          "output_type": "stream",
          "name": "stdout",
          "text": [
            "Mounted at /content/drive\n",
            "Data has been successfully saved to: /content/drive/My Drive/BB_Normalized_Monthly_Final/combined_data_minus_183.parquet\n"
          ]
        }
      ]
    }
  ]
}
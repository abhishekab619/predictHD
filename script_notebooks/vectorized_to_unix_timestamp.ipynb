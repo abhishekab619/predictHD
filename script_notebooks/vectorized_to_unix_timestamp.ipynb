{
  "nbformat": 4,
  "nbformat_minor": 0,
  "metadata": {
    "colab": {
      "provenance": []
    },
    "kernelspec": {
      "name": "python3",
      "display_name": "Python 3"
    },
    "language_info": {
      "name": "python"
    }
  },
  "cells": [
    {
      "cell_type": "code",
      "execution_count": null,
      "metadata": {
        "colab": {
          "base_uri": "https://localhost:8080/"
        },
        "id": "NuqX2kie2_jV",
        "outputId": "fb75973e-2ab1-4125-c483-b9905b64a6bc"
      },
      "outputs": [
        {
          "output_type": "stream",
          "name": "stdout",
          "text": [
            "Mounted at /content/drive\n"
          ]
        }
      ],
      "source": [
        "import pandas as pd\n",
        "import pyarrow.parquet as pq\n",
        "from google.colab import drive\n",
        "from datetime import datetime\n",
        "\n",
        "# Mount Google Drive\n",
        "drive.mount('/content/drive')\n",
        "\n",
        "# Path to the original file\n",
        "input_file_path = '/content/drive/MyDrive/BB_Normalized_Monthly_Final/vectorized_combined_data_minus_183.parquet'\n",
        "\n",
        "# Read the parquet file\n",
        "df = pq.read_table(input_file_path).to_pandas()\n",
        "\n",
        "# Convert 'date' column to UNIX timestamps\n",
        "df['date'] = pd.to_datetime(df['date']).apply(lambda x: int(datetime.timestamp(x)))\n",
        "\n",
        "# Path to the new file\n",
        "output_file_path = '/content/drive/MyDrive/BB_Normalized_Monthly_Final/vectorized_combined_data_minus_183_unix_timestamps.parquet'\n",
        "\n",
        "# Write the modified DataFrame back to a new parquet file\n",
        "df.to_parquet(output_file_path, engine='pyarrow')\n",
        "\n",
        "print('File has been successfully processed and saved.')\n"
      ]
    }
  ]
}
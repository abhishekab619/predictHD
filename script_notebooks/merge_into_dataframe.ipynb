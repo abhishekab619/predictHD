{
  "nbformat": 4,
  "nbformat_minor": 0,
  "metadata": {
    "colab": {
      "provenance": [],
      "machine_shape": "hm",
      "gpuType": "A100"
    },
    "kernelspec": {
      "name": "python3",
      "display_name": "Python 3"
    },
    "language_info": {
      "name": "python"
    },
    "accelerator": "GPU"
  },
  "cells": [
    {
      "cell_type": "code",
      "source": [
        "import pandas as pd\n",
        "import glob\n",
        "\n",
        "# Path to your CSV files\n",
        "path = '/Users/aniruddha_chakravarty/Desktop/BB_Normalized_Monthly_Final'\n",
        "all_files = glob.glob(path + \"/*.csv\")\n",
        "\n",
        "# Print the list of CSV files found\n",
        "print(\"Files found:\", all_files)\n",
        "\n",
        "# List comprehension to load all CSV files if any files are found\n",
        "if all_files:\n",
        "    df = pd.concat((pd.read_csv(f) for f in all_files), ignore_index=True)\n",
        "else:\n",
        "    print(\"No CSV files found in the directory.\")\n"
      ],
      "metadata": {
        "colab": {
          "base_uri": "https://localhost:8080/"
        },
        "id": "4EPoRwC1u1hk",
        "outputId": "bc006f60-74e1-47fb-dbf7-c420f0aa797c"
      },
      "execution_count": null,
      "outputs": [
        {
          "output_type": "stream",
          "name": "stdout",
          "text": [
            "Files found: []\n",
            "No CSV files found in the directory.\n"
          ]
        }
      ]
    },
    {
      "cell_type": "code",
      "source": [
        "from google.colab import drive\n",
        "drive.mount('/content/drive')"
      ],
      "metadata": {
        "colab": {
          "base_uri": "https://localhost:8080/"
        },
        "id": "u1rKxCJQvpLs",
        "outputId": "9ffe0faa-1ccd-4d69-d659-09c1543e90c0"
      },
      "execution_count": null,
      "outputs": [
        {
          "output_type": "stream",
          "name": "stdout",
          "text": [
            "Mounted at /content/drive\n"
          ]
        }
      ]
    },
    {
      "cell_type": "code",
      "source": [
        "import pandas as pd\n",
        "import glob\n",
        "\n",
        "# Path to your CSV files on Google Drive\n",
        "path = '/content/drive/My Drive/BB_Normalized_Monthly_Final'  # Adjust path as necessary\n",
        "all_files = glob.glob(path + \"/*.csv\")\n",
        "\n",
        "# Verify if files are found\n",
        "print(\"Files found:\", all_files)\n",
        "\n",
        "# Check if there are any files before concatenating\n",
        "if all_files:\n",
        "    # List comprehension to load all CSV files\n",
        "    df = pd.concat((pd.read_csv(f) for f in all_files), ignore_index=True)\n",
        "    print(\"Data concatenated successfully.\")\n",
        "else:\n",
        "    print(\"No CSV files found in the directory.\")\n"
      ],
      "metadata": {
        "colab": {
          "base_uri": "https://localhost:8080/"
        },
        "id": "zyw5KECiv7C7",
        "outputId": "2ea6a3a7-f187-422f-a5cc-4c11698721e4"
      },
      "execution_count": null,
      "outputs": [
        {
          "output_type": "stream",
          "name": "stdout",
          "text": [
            "Files found: ['/content/drive/My Drive/BB_Normalized_Monthly_Final/2017_02_ST8000NM0055.csv', '/content/drive/My Drive/BB_Normalized_Monthly_Final/2016_12_ST8000NM0055.csv', '/content/drive/My Drive/BB_Normalized_Monthly_Final/2017_01_ST8000NM0055.csv', '/content/drive/My Drive/BB_Normalized_Monthly_Final/2019_12_ST8000NM0055.csv', '/content/drive/My Drive/BB_Normalized_Monthly_Final/2018_12_ST8000NM0055.csv', '/content/drive/My Drive/BB_Normalized_Monthly_Final/2017_03_ST8000NM0055.csv', '/content/drive/My Drive/BB_Normalized_Monthly_Final/2018_06_ST8000NM0055.csv', '/content/drive/My Drive/BB_Normalized_Monthly_Final/2017_08_ST8000NM0055.csv', '/content/drive/My Drive/BB_Normalized_Monthly_Final/2019_06_ST8000NM0055.csv', '/content/drive/My Drive/BB_Normalized_Monthly_Final/2019_02_ST8000NM0055.csv', '/content/drive/My Drive/BB_Normalized_Monthly_Final/2022_10_ST8000NM0055.csv', '/content/drive/My Drive/BB_Normalized_Monthly_Final/2021_04_ST8000NM0055.csv', '/content/drive/My Drive/BB_Normalized_Monthly_Final/2023_10_ST8000NM0055.csv', '/content/drive/My Drive/BB_Normalized_Monthly_Final/2018_02_ST8000NM0055.csv', '/content/drive/My Drive/BB_Normalized_Monthly_Final/2020_04_ST8000NM0055.csv', '/content/drive/My Drive/BB_Normalized_Monthly_Final/2023_04_ST8000NM0055.csv', '/content/drive/My Drive/BB_Normalized_Monthly_Final/2020_10_ST8000NM0055.csv', '/content/drive/My Drive/BB_Normalized_Monthly_Final/2019_09_ST8000NM0055.csv', '/content/drive/My Drive/BB_Normalized_Monthly_Final/2017_07_ST8000NM0055.csv', '/content/drive/My Drive/BB_Normalized_Monthly_Final/2022_04_ST8000NM0055.csv', '/content/drive/My Drive/BB_Normalized_Monthly_Final/2021_10_ST8000NM0055.csv', '/content/drive/My Drive/BB_Normalized_Monthly_Final/2018_09_ST8000NM0055.csv', '/content/drive/My Drive/BB_Normalized_Monthly_Final/2023_01_ST8000NM0055.csv', '/content/drive/My Drive/BB_Normalized_Monthly_Final/2022_01_ST8000NM0055.csv', '/content/drive/My Drive/BB_Normalized_Monthly_Final/2021_01_ST8000NM0055.csv', '/content/drive/My Drive/BB_Normalized_Monthly_Final/2017_09_ST8000NM0055.csv', '/content/drive/My Drive/BB_Normalized_Monthly_Final/2019_07_ST8000NM0055.csv', '/content/drive/My Drive/BB_Normalized_Monthly_Final/2020_01_ST8000NM0055.csv', '/content/drive/My Drive/BB_Normalized_Monthly_Final/2018_07_ST8000NM0055.csv', '/content/drive/My Drive/BB_Normalized_Monthly_Final/2017_12_ST8000NM0055.csv', '/content/drive/My Drive/BB_Normalized_Monthly_Final/2020_05_ST8000NM0055.csv', '/content/drive/My Drive/BB_Normalized_Monthly_Final/2018_03_ST8000NM0055.csv', '/content/drive/My Drive/BB_Normalized_Monthly_Final/2023_11_ST8000NM0055.csv', '/content/drive/My Drive/BB_Normalized_Monthly_Final/2021_05_ST8000NM0055.csv', '/content/drive/My Drive/BB_Normalized_Monthly_Final/2022_11_ST8000NM0055.csv', '/content/drive/My Drive/BB_Normalized_Monthly_Final/2019_03_ST8000NM0055.csv', '/content/drive/My Drive/BB_Normalized_Monthly_Final/2018_08_ST8000NM0055.csv', '/content/drive/My Drive/BB_Normalized_Monthly_Final/2021_11_ST8000NM0055.csv', '/content/drive/My Drive/BB_Normalized_Monthly_Final/2022_05_ST8000NM0055.csv', '/content/drive/My Drive/BB_Normalized_Monthly_Final/2019_08_ST8000NM0055.csv', '/content/drive/My Drive/BB_Normalized_Monthly_Final/2020_11_ST8000NM0055.csv', '/content/drive/My Drive/BB_Normalized_Monthly_Final/2017_06_ST8000NM0055.csv', '/content/drive/My Drive/BB_Normalized_Monthly_Final/2023_05_ST8000NM0055.csv', '/content/drive/My Drive/BB_Normalized_Monthly_Final/2023_09_ST8000NM0055.csv', '/content/drive/My Drive/BB_Normalized_Monthly_Final/2021_02_ST8000NM0055.csv', '/content/drive/My Drive/BB_Normalized_Monthly_Final/2019_04_ST8000NM0055.csv', '/content/drive/My Drive/BB_Normalized_Monthly_Final/2020_02_ST8000NM0055.csv', '/content/drive/My Drive/BB_Normalized_Monthly_Final/2022_09_ST8000NM0055.csv', '/content/drive/My Drive/BB_Normalized_Monthly_Final/2018_04_ST8000NM0055.csv', '/content/drive/My Drive/BB_Normalized_Monthly_Final/2023_02_ST8000NM0055.csv', '/content/drive/My Drive/BB_Normalized_Monthly_Final/2018_10_ST8000NM0055.csv', '/content/drive/My Drive/BB_Normalized_Monthly_Final/2021_09_ST8000NM0055.csv', '/content/drive/My Drive/BB_Normalized_Monthly_Final/2019_10_ST8000NM0055.csv', '/content/drive/My Drive/BB_Normalized_Monthly_Final/2020_09_ST8000NM0055.csv', '/content/drive/My Drive/BB_Normalized_Monthly_Final/2022_02_ST8000NM0055.csv', '/content/drive/My Drive/BB_Normalized_Monthly_Final/2021_12_ST8000NM0055.csv', '/content/drive/My Drive/BB_Normalized_Monthly_Final/2022_06_ST8000NM0055.csv', '/content/drive/My Drive/BB_Normalized_Monthly_Final/2017_05_ST8000NM0055.csv', '/content/drive/My Drive/BB_Normalized_Monthly_Final/2020_12_ST8000NM0055.csv', '/content/drive/My Drive/BB_Normalized_Monthly_Final/2023_06_ST8000NM0055.csv', '/content/drive/My Drive/BB_Normalized_Monthly_Final/2020_06_ST8000NM0055.csv', '/content/drive/My Drive/BB_Normalized_Monthly_Final/2017_11_ST8000NM0055.csv', '/content/drive/My Drive/BB_Normalized_Monthly_Final/2023_12_ST8000NM0055.csv', '/content/drive/My Drive/BB_Normalized_Monthly_Final/2021_06_ST8000NM0055.csv', '/content/drive/My Drive/BB_Normalized_Monthly_Final/2022_12_ST8000NM0055.csv', '/content/drive/My Drive/BB_Normalized_Monthly_Final/2018_05_ST8000NM0055.csv', '/content/drive/My Drive/BB_Normalized_Monthly_Final/2022_08_ST8000NM0055.csv', '/content/drive/My Drive/BB_Normalized_Monthly_Final/2020_03_ST8000NM0055.csv', '/content/drive/My Drive/BB_Normalized_Monthly_Final/2019_05_ST8000NM0055.csv', '/content/drive/My Drive/BB_Normalized_Monthly_Final/2021_03_ST8000NM0055.csv', '/content/drive/My Drive/BB_Normalized_Monthly_Final/2023_08_ST8000NM0055.csv', '/content/drive/My Drive/BB_Normalized_Monthly_Final/2022_03_ST8000NM0055.csv', '/content/drive/My Drive/BB_Normalized_Monthly_Final/2020_08_ST8000NM0055.csv', '/content/drive/My Drive/BB_Normalized_Monthly_Final/2019_11_ST8000NM0055.csv', '/content/drive/My Drive/BB_Normalized_Monthly_Final/2021_08_ST8000NM0055.csv', '/content/drive/My Drive/BB_Normalized_Monthly_Final/2018_11_ST8000NM0055.csv', '/content/drive/My Drive/BB_Normalized_Monthly_Final/2023_03_ST8000NM0055.csv', '/content/drive/My Drive/BB_Normalized_Monthly_Final/2023_07_ST8000NM0055.csv', '/content/drive/My Drive/BB_Normalized_Monthly_Final/2017_04_ST8000NM0055.csv', '/content/drive/My Drive/BB_Normalized_Monthly_Final/2022_07_ST8000NM0055.csv', '/content/drive/My Drive/BB_Normalized_Monthly_Final/2019_01_ST8000NM0055.csv', '/content/drive/My Drive/BB_Normalized_Monthly_Final/2021_07_ST8000NM0055.csv', '/content/drive/My Drive/BB_Normalized_Monthly_Final/2018_01_ST8000NM0055.csv', '/content/drive/My Drive/BB_Normalized_Monthly_Final/2020_07_ST8000NM0055.csv', '/content/drive/My Drive/BB_Normalized_Monthly_Final/2017_10_ST8000NM0055.csv']\n",
            "Data concatenated successfully.\n"
          ]
        }
      ]
    },
    {
      "cell_type": "code",
      "source": [
        "import pandas as pd\n",
        "import glob\n",
        "from google.colab import files\n",
        "\n",
        "# Path to your CSV files on Google Drive\n",
        "path = '/content/drive/My Drive/BB_Normalized_Monthly_Final'  # Adjust path as necessary\n",
        "all_files = glob.glob(path + \"/*.csv\")\n",
        "\n",
        "# Verify if files are found\n",
        "print(\"Files found:\", all_files)\n",
        "\n",
        "# Check if there are any files before concatenating\n",
        "if all_files:\n",
        "    # List comprehension to load all CSV files\n",
        "    df = pd.concat((pd.read_csv(f) for f in all_files), ignore_index=True)\n",
        "    print(\"Data concatenated successfully.\")\n",
        "\n",
        "    # Save the concatenated DataFrame to a CSV file\n",
        "    output_filename = '/content/combined_csv_data.csv'\n",
        "    df.to_csv(output_filename, index=False)\n",
        "\n",
        "    # Download the file to your local machine\n",
        "    files.download(output_filename)\n",
        "else:\n",
        "    print(\"No CSV files found in the directory.\")\n"
      ],
      "metadata": {
        "colab": {
          "base_uri": "https://localhost:8080/",
          "height": 89
        },
        "id": "FHFE8BywzUuI",
        "outputId": "d100dba8-770f-4e8f-9049-e26c4a2a21ce"
      },
      "execution_count": null,
      "outputs": [
        {
          "output_type": "stream",
          "name": "stdout",
          "text": [
            "Files found: ['/content/drive/My Drive/BB_Normalized_Monthly_Final/2017_02_ST8000NM0055.csv', '/content/drive/My Drive/BB_Normalized_Monthly_Final/2016_12_ST8000NM0055.csv', '/content/drive/My Drive/BB_Normalized_Monthly_Final/2017_01_ST8000NM0055.csv', '/content/drive/My Drive/BB_Normalized_Monthly_Final/2019_12_ST8000NM0055.csv', '/content/drive/My Drive/BB_Normalized_Monthly_Final/2018_12_ST8000NM0055.csv', '/content/drive/My Drive/BB_Normalized_Monthly_Final/2017_03_ST8000NM0055.csv', '/content/drive/My Drive/BB_Normalized_Monthly_Final/2018_06_ST8000NM0055.csv', '/content/drive/My Drive/BB_Normalized_Monthly_Final/2017_08_ST8000NM0055.csv', '/content/drive/My Drive/BB_Normalized_Monthly_Final/2019_06_ST8000NM0055.csv', '/content/drive/My Drive/BB_Normalized_Monthly_Final/2019_02_ST8000NM0055.csv', '/content/drive/My Drive/BB_Normalized_Monthly_Final/2022_10_ST8000NM0055.csv', '/content/drive/My Drive/BB_Normalized_Monthly_Final/2021_04_ST8000NM0055.csv', '/content/drive/My Drive/BB_Normalized_Monthly_Final/2023_10_ST8000NM0055.csv', '/content/drive/My Drive/BB_Normalized_Monthly_Final/2018_02_ST8000NM0055.csv', '/content/drive/My Drive/BB_Normalized_Monthly_Final/2020_04_ST8000NM0055.csv', '/content/drive/My Drive/BB_Normalized_Monthly_Final/2023_04_ST8000NM0055.csv', '/content/drive/My Drive/BB_Normalized_Monthly_Final/2020_10_ST8000NM0055.csv', '/content/drive/My Drive/BB_Normalized_Monthly_Final/2019_09_ST8000NM0055.csv', '/content/drive/My Drive/BB_Normalized_Monthly_Final/2017_07_ST8000NM0055.csv', '/content/drive/My Drive/BB_Normalized_Monthly_Final/2022_04_ST8000NM0055.csv', '/content/drive/My Drive/BB_Normalized_Monthly_Final/2021_10_ST8000NM0055.csv', '/content/drive/My Drive/BB_Normalized_Monthly_Final/2018_09_ST8000NM0055.csv', '/content/drive/My Drive/BB_Normalized_Monthly_Final/2023_01_ST8000NM0055.csv', '/content/drive/My Drive/BB_Normalized_Monthly_Final/2022_01_ST8000NM0055.csv', '/content/drive/My Drive/BB_Normalized_Monthly_Final/2021_01_ST8000NM0055.csv', '/content/drive/My Drive/BB_Normalized_Monthly_Final/2017_09_ST8000NM0055.csv', '/content/drive/My Drive/BB_Normalized_Monthly_Final/2019_07_ST8000NM0055.csv', '/content/drive/My Drive/BB_Normalized_Monthly_Final/2020_01_ST8000NM0055.csv', '/content/drive/My Drive/BB_Normalized_Monthly_Final/2018_07_ST8000NM0055.csv', '/content/drive/My Drive/BB_Normalized_Monthly_Final/2017_12_ST8000NM0055.csv', '/content/drive/My Drive/BB_Normalized_Monthly_Final/2020_05_ST8000NM0055.csv', '/content/drive/My Drive/BB_Normalized_Monthly_Final/2018_03_ST8000NM0055.csv', '/content/drive/My Drive/BB_Normalized_Monthly_Final/2023_11_ST8000NM0055.csv', '/content/drive/My Drive/BB_Normalized_Monthly_Final/2021_05_ST8000NM0055.csv', '/content/drive/My Drive/BB_Normalized_Monthly_Final/2022_11_ST8000NM0055.csv', '/content/drive/My Drive/BB_Normalized_Monthly_Final/2019_03_ST8000NM0055.csv', '/content/drive/My Drive/BB_Normalized_Monthly_Final/2018_08_ST8000NM0055.csv', '/content/drive/My Drive/BB_Normalized_Monthly_Final/2021_11_ST8000NM0055.csv', '/content/drive/My Drive/BB_Normalized_Monthly_Final/2022_05_ST8000NM0055.csv', '/content/drive/My Drive/BB_Normalized_Monthly_Final/2019_08_ST8000NM0055.csv', '/content/drive/My Drive/BB_Normalized_Monthly_Final/2020_11_ST8000NM0055.csv', '/content/drive/My Drive/BB_Normalized_Monthly_Final/2017_06_ST8000NM0055.csv', '/content/drive/My Drive/BB_Normalized_Monthly_Final/2023_05_ST8000NM0055.csv', '/content/drive/My Drive/BB_Normalized_Monthly_Final/2023_09_ST8000NM0055.csv', '/content/drive/My Drive/BB_Normalized_Monthly_Final/2021_02_ST8000NM0055.csv', '/content/drive/My Drive/BB_Normalized_Monthly_Final/2019_04_ST8000NM0055.csv', '/content/drive/My Drive/BB_Normalized_Monthly_Final/2020_02_ST8000NM0055.csv', '/content/drive/My Drive/BB_Normalized_Monthly_Final/2022_09_ST8000NM0055.csv', '/content/drive/My Drive/BB_Normalized_Monthly_Final/2018_04_ST8000NM0055.csv', '/content/drive/My Drive/BB_Normalized_Monthly_Final/2023_02_ST8000NM0055.csv', '/content/drive/My Drive/BB_Normalized_Monthly_Final/2018_10_ST8000NM0055.csv', '/content/drive/My Drive/BB_Normalized_Monthly_Final/2021_09_ST8000NM0055.csv', '/content/drive/My Drive/BB_Normalized_Monthly_Final/2019_10_ST8000NM0055.csv', '/content/drive/My Drive/BB_Normalized_Monthly_Final/2020_09_ST8000NM0055.csv', '/content/drive/My Drive/BB_Normalized_Monthly_Final/2022_02_ST8000NM0055.csv', '/content/drive/My Drive/BB_Normalized_Monthly_Final/2021_12_ST8000NM0055.csv', '/content/drive/My Drive/BB_Normalized_Monthly_Final/2022_06_ST8000NM0055.csv', '/content/drive/My Drive/BB_Normalized_Monthly_Final/2017_05_ST8000NM0055.csv', '/content/drive/My Drive/BB_Normalized_Monthly_Final/2020_12_ST8000NM0055.csv', '/content/drive/My Drive/BB_Normalized_Monthly_Final/2023_06_ST8000NM0055.csv', '/content/drive/My Drive/BB_Normalized_Monthly_Final/2020_06_ST8000NM0055.csv', '/content/drive/My Drive/BB_Normalized_Monthly_Final/2017_11_ST8000NM0055.csv', '/content/drive/My Drive/BB_Normalized_Monthly_Final/2023_12_ST8000NM0055.csv', '/content/drive/My Drive/BB_Normalized_Monthly_Final/2021_06_ST8000NM0055.csv', '/content/drive/My Drive/BB_Normalized_Monthly_Final/2022_12_ST8000NM0055.csv', '/content/drive/My Drive/BB_Normalized_Monthly_Final/2018_05_ST8000NM0055.csv', '/content/drive/My Drive/BB_Normalized_Monthly_Final/2022_08_ST8000NM0055.csv', '/content/drive/My Drive/BB_Normalized_Monthly_Final/2020_03_ST8000NM0055.csv', '/content/drive/My Drive/BB_Normalized_Monthly_Final/2019_05_ST8000NM0055.csv', '/content/drive/My Drive/BB_Normalized_Monthly_Final/2021_03_ST8000NM0055.csv', '/content/drive/My Drive/BB_Normalized_Monthly_Final/2023_08_ST8000NM0055.csv', '/content/drive/My Drive/BB_Normalized_Monthly_Final/2022_03_ST8000NM0055.csv', '/content/drive/My Drive/BB_Normalized_Monthly_Final/2020_08_ST8000NM0055.csv', '/content/drive/My Drive/BB_Normalized_Monthly_Final/2019_11_ST8000NM0055.csv', '/content/drive/My Drive/BB_Normalized_Monthly_Final/2021_08_ST8000NM0055.csv', '/content/drive/My Drive/BB_Normalized_Monthly_Final/2018_11_ST8000NM0055.csv', '/content/drive/My Drive/BB_Normalized_Monthly_Final/2023_03_ST8000NM0055.csv', '/content/drive/My Drive/BB_Normalized_Monthly_Final/2023_07_ST8000NM0055.csv', '/content/drive/My Drive/BB_Normalized_Monthly_Final/2017_04_ST8000NM0055.csv', '/content/drive/My Drive/BB_Normalized_Monthly_Final/2022_07_ST8000NM0055.csv', '/content/drive/My Drive/BB_Normalized_Monthly_Final/2019_01_ST8000NM0055.csv', '/content/drive/My Drive/BB_Normalized_Monthly_Final/2021_07_ST8000NM0055.csv', '/content/drive/My Drive/BB_Normalized_Monthly_Final/2018_01_ST8000NM0055.csv', '/content/drive/My Drive/BB_Normalized_Monthly_Final/2020_07_ST8000NM0055.csv', '/content/drive/My Drive/BB_Normalized_Monthly_Final/2017_10_ST8000NM0055.csv']\n",
            "Data concatenated successfully.\n"
          ]
        },
        {
          "output_type": "display_data",
          "data": {
            "text/plain": [
              "<IPython.core.display.Javascript object>"
            ],
            "application/javascript": [
              "\n",
              "    async function download(id, filename, size) {\n",
              "      if (!google.colab.kernel.accessAllowed) {\n",
              "        return;\n",
              "      }\n",
              "      const div = document.createElement('div');\n",
              "      const label = document.createElement('label');\n",
              "      label.textContent = `Downloading \"${filename}\": `;\n",
              "      div.appendChild(label);\n",
              "      const progress = document.createElement('progress');\n",
              "      progress.max = size;\n",
              "      div.appendChild(progress);\n",
              "      document.body.appendChild(div);\n",
              "\n",
              "      const buffers = [];\n",
              "      let downloaded = 0;\n",
              "\n",
              "      const channel = await google.colab.kernel.comms.open(id);\n",
              "      // Send a message to notify the kernel that we're ready.\n",
              "      channel.send({})\n",
              "\n",
              "      for await (const message of channel.messages) {\n",
              "        // Send a message to notify the kernel that we're ready.\n",
              "        channel.send({})\n",
              "        if (message.buffers) {\n",
              "          for (const buffer of message.buffers) {\n",
              "            buffers.push(buffer);\n",
              "            downloaded += buffer.byteLength;\n",
              "            progress.value = downloaded;\n",
              "          }\n",
              "        }\n",
              "      }\n",
              "      const blob = new Blob(buffers, {type: 'application/binary'});\n",
              "      const a = document.createElement('a');\n",
              "      a.href = window.URL.createObjectURL(blob);\n",
              "      a.download = filename;\n",
              "      div.appendChild(a);\n",
              "      a.click();\n",
              "      div.remove();\n",
              "    }\n",
              "  "
            ]
          },
          "metadata": {}
        },
        {
          "output_type": "display_data",
          "data": {
            "text/plain": [
              "<IPython.core.display.Javascript object>"
            ],
            "application/javascript": [
              "download(\"download_bdd5c203-e594-4a49-8a5d-05ad167ae204\", \"combined_csv_data.csv\", 9646376652)"
            ]
          },
          "metadata": {}
        }
      ]
    }
  ]
}